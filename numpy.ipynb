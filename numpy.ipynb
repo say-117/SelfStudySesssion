{
 "cells": [
  {
   "cell_type": "markdown",
   "id": "1422917b",
   "metadata": {},
   "source": [
    "Introduction"
   ]
  },
  {
   "cell_type": "code",
   "execution_count": 1,
   "id": "41dc1122",
   "metadata": {},
   "outputs": [
    {
     "name": "stdout",
     "output_type": "stream",
     "text": [
      "4\n",
      "[1, 2, 3, 4, 5]\n"
     ]
    }
   ],
   "source": [
    "import numpy as np\n",
    "#numpy <- writen in c, optimized for linear Algebra\n",
    "a = [1,2,3,4,5]\n",
    "\n",
    "print(a[3])\n",
    "print(a)"
   ]
  },
  {
   "cell_type": "code",
   "execution_count": null,
   "id": "3a7bb832",
   "metadata": {},
   "outputs": [
    {
     "name": "stdout",
     "output_type": "stream",
     "text": [
      "[1 2 3 4 5]\n",
      "<class 'numpy.ndarray'>\n",
      "[3 4 5]\n"
     ]
    }
   ],
   "source": [
    "a = np.array([1,2,3,4,5])\n",
    "print(a)\n",
    "print(type(a))\n",
    "print(a[2:])\n",
    "\n",
    "#numpy array separated by spacing"
   ]
  },
  {
   "cell_type": "code",
   "execution_count": null,
   "id": "7f5e0b96",
   "metadata": {},
   "outputs": [
    {
     "name": "stdout",
     "output_type": "stream",
     "text": [
      "(2, 3, 4)\n",
      "3\n"
     ]
    }
   ],
   "source": [
    "# multilayer\n",
    "a_mul = np.array([[[1,2,3, 0],\n",
    "                [4,5,6, 0],\n",
    "                [7,8,9, 0]],\n",
    "                [[4,5,6, 0],\n",
    "                [7,6,0, 0],\n",
    "                [1,2,3, 0]]])\n",
    "\n",
    "print (a_mul.shape) #size - as matrix\n",
    "\n",
    "# (# of matrices, row, column )\n",
    "# **only if matrices are of same size (homogeneous)\n",
    "# all element should be included in a single list form as a whole [ ]\n",
    "\n",
    "print(a_mul.ndim) #dimension - depth\n",
    "\n",
    "# Q - f vector(x,y,z) perspective?\n",
    "\n",
    "print(a_mul.size) #amount of element\n",
    "print(a_mul.dtype) #\n"
   ]
  },
  {
   "cell_type": "markdown",
   "id": "be1ec1c7",
   "metadata": {},
   "source": [
    "Datatype"
   ]
  },
  {
   "cell_type": "code",
   "execution_count": null,
   "id": "3dd46fd0",
   "metadata": {},
   "outputs": [
    {
     "name": "stdout",
     "output_type": "stream",
     "text": [
      "float32\n",
      "4\n",
      "1.0\n",
      "<class 'numpy.float32'>\n",
      "float32\n"
     ]
    }
   ],
   "source": [
    "import numpy as np\n",
    "\n",
    "a = np.array([[1,2,3],\n",
    "             [4, \"8\" ,5],\n",
    "             [7,8,9]] , dtype = np.float32 )\n",
    "             #Q - dtype = np.int32 example, function? + what does the number after a typename mean?\n",
    "\n",
    "print(a.dtype)\n",
    "# < U# - Unicode string with less than # Characters\n",
    "print(a.itemsize)\n",
    "# memory that a single item in array uses\n",
    "# in this case, 21*4(bytes for unicode)\n",
    "print(a[0][0])\n",
    "print(type(a[0][0]))\n",
    "print(a[0][0].dtype)"
   ]
  },
  {
   "cell_type": "markdown",
   "id": "a4c8be12",
   "metadata": {},
   "source": [
    "### unicode : universial standard/code for each text in computer. \n",
    "assigned to each character/number/symbols, etc. Usually takes up 4 bytes of memory (integer takes 28)\n",
    "    + ) practically the same as string, except for encoding systems created before unicode\n",
    "\n",
    "### How numpy allocates memory\n",
    "The number as in U21 <- fit for the longest (unicord) title for convinience, as a fixed-sized lot ; can only tell the size of a single element\n",
    "\n",
    "### Numpy's Upcasting Process\n",
    "converts other data types into the most general one(string in this case)"
   ]
  },
  {
   "cell_type": "code",
   "execution_count": null,
   "id": "672d9b64",
   "metadata": {},
   "outputs": [
    {
     "name": "stdout",
     "output_type": "stream",
     "text": [
      "object\n"
     ]
    },
    {
     "ename": "AttributeError",
     "evalue": "'list' object has no attribute 'dtype'",
     "output_type": "error",
     "traceback": [
      "\u001b[31m---------------------------------------------------------------------------\u001b[39m",
      "\u001b[31mAttributeError\u001b[39m                            Traceback (most recent call last)",
      "\u001b[36mCell\u001b[39m\u001b[36m \u001b[39m\u001b[32mIn[13]\u001b[39m\u001b[32m, line 10\u001b[39m\n\u001b[32m      5\u001b[39m a = np.array([[\u001b[32m1\u001b[39m,\u001b[32m2\u001b[39m,\u001b[32m3\u001b[39m],\n\u001b[32m      6\u001b[39m              [\u001b[32m4\u001b[39m, d ,\u001b[32m5\u001b[39m],\n\u001b[32m      7\u001b[39m              [\u001b[32m7\u001b[39m,\u001b[32m8\u001b[39m,\u001b[32m9\u001b[39m]])\n\u001b[32m      9\u001b[39m \u001b[38;5;28mprint\u001b[39m(a.dtype)\n\u001b[32m---> \u001b[39m\u001b[32m10\u001b[39m \u001b[38;5;28mprint\u001b[39m(a[\u001b[32m1\u001b[39m],\u001b[43m[\u001b[49m\u001b[32;43m0\u001b[39;49m\u001b[43m]\u001b[49m\u001b[43m.\u001b[49m\u001b[43mdtype\u001b[49m)\n",
      "\u001b[31mAttributeError\u001b[39m: 'list' object has no attribute 'dtype'"
     ]
    }
   ],
   "source": [
    "import numpy as np\n",
    "\n",
    "d = {'1' : 'A'}\n",
    "\n",
    "a = np.array([[1,2,3],\n",
    "             [4, d ,5],\n",
    "             [7,8,9]])\n",
    "\n",
    "print(a.dtype)\n",
    "print(a[1],[0].dtype)\n",
    "\n",
    "# is .dtype result always pre-defined?\n"
   ]
  }
 ],
 "metadata": {
  "kernelspec": {
   "display_name": "Python 3",
   "language": "python",
   "name": "python3"
  },
  "language_info": {
   "codemirror_mode": {
    "name": "ipython",
    "version": 3
   },
   "file_extension": ".py",
   "mimetype": "text/x-python",
   "name": "python",
   "nbconvert_exporter": "python",
   "pygments_lexer": "ipython3",
   "version": "3.13.1"
  }
 },
 "nbformat": 4,
 "nbformat_minor": 5
}
