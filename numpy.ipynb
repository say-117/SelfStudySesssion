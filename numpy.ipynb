{
 "cells": [
  {
   "cell_type": "markdown",
   "id": "1422917b",
   "metadata": {},
   "source": [
    "Introduction"
   ]
  },
  {
   "cell_type": "code",
   "execution_count": null,
   "id": "41dc1122",
   "metadata": {},
   "outputs": [],
   "source": [
    "import numpy as np\n",
    "#numpy <- writen in c, optimized for linear Algebra\n",
    "a = [1,2,3,4,5]\n",
    "\n",
    "print(a[3])\n",
    "print(a)"
   ]
  },
  {
   "cell_type": "code",
   "execution_count": null,
   "id": "3a7bb832",
   "metadata": {},
   "outputs": [],
   "source": [
    "a = np.array([1,2,3,4,5])\n",
    "print(a)\n",
    "print(type(a))\n",
    "print(a[2:])\n",
    "\n",
    "#numpy array separated by spacing"
   ]
  },
  {
   "cell_type": "code",
   "execution_count": null,
   "id": "7f5e0b96",
   "metadata": {},
   "outputs": [],
   "source": [
    "# multilayer\n",
    "a_mul = np.array([[[1,2,3, 0],\n",
    "                [4,5,6, 0],\n",
    "                [7,8,9, 0]],\n",
    "                [[4,5,6, 0],\n",
    "                [7,6,0, 0],\n",
    "                [1,2,3, 0]]])\n",
    "\n",
    "print (a_mul.shape) #size - as matrix\n",
    "\n",
    "# (# of matrices, row, column )\n",
    "# **only if matrices are of same size (homogeneous)\n",
    "# all element should be included in a single list form as a whole [ ]\n",
    "\n",
    "print(a_mul.ndim) #dimension - depth\n",
    "\n",
    "# Q - f vector(x,y,z) perspective?\n",
    "\n",
    "print(a_mul.size) #amount of element\n",
    "print(a_mul.dtype) #\n"
   ]
  },
  {
   "cell_type": "markdown",
   "id": "be1ec1c7",
   "metadata": {},
   "source": [
    "Datatype"
   ]
  },
  {
   "cell_type": "code",
   "execution_count": 4,
   "id": "3dd46fd0",
   "metadata": {},
   "outputs": [
    {
     "name": "stdout",
     "output_type": "stream",
     "text": [
      "float32\n",
      "4\n",
      "1.0\n",
      "<class 'numpy.float32'>\n",
      "float32\n"
     ]
    }
   ],
   "source": [
    "import numpy as np\n",
    "\n",
    "a = np.array([[1,2,3],\n",
    "             [4, \"8\" ,5],\n",
    "             [7,8,9]] , dtype = np.float32 )\n",
    "             #Q - dtype = np.int32 example, function? + what does the number after a typename mean?\n",
    "\n",
    "print(a.dtype)\n",
    "# < U# - Unicode string with less than # Characters\n",
    "print(a.itemsize)\n",
    "# memory that a single item in array uses\n",
    "# in this case, 21*4(bytes for unicode)\n",
    "print(a[0][0])\n",
    "print(type(a[0][0]))\n",
    "print(a[0][0].dtype)"
   ]
  },
  {
   "cell_type": "markdown",
   "id": "a4c8be12",
   "metadata": {},
   "source": [
    "##### unicode : universial standard/code for each text in computer. \n",
    "assigned to each character/number/symbols, etc. Usually takes up 4 bytes of memory (integer takes 28)\n",
    "    + ) practically the same as string, except for encoding systems created before unicode\n",
    "\n",
    "##### How numpy allocates memory\n",
    "The number as in U21 <- fit for the longest (unicord) title for convinience, as a fixed-sized lot ; can only tell the size of a single element\n",
    "\n",
    "##### Numpy's Upcasting Process\n",
    "converts other data types into the most general one(string in this case)\n",
    "+ ) as object in the exampe below"
   ]
  },
  {
   "cell_type": "code",
   "execution_count": 89,
   "id": "672d9b64",
   "metadata": {},
   "outputs": [
    {
     "name": "stdout",
     "output_type": "stream",
     "text": [
      "object\n",
      "<class 'int'>\n"
     ]
    }
   ],
   "source": [
    "import numpy as np\n",
    "\n",
    "d = {'1' : 'A'}\n",
    "\n",
    "a = np.array([[1,2,3],\n",
    "             [4, d ,5],\n",
    "             [7,8,9]])\n",
    "\n",
    "print(a.dtype)\n",
    "print(type(a[1][0]))\n",
    "\n",
    "# is .dtype result always pre-defined?\n"
   ]
  },
  {
   "cell_type": "markdown",
   "id": "a7944ba4",
   "metadata": {},
   "source": [
    "print(a[1][0].dtype) :\n",
    "error occurs because standard Python integers don't have .dtype property (property does not exist)\n",
    "* unlike other numpy elements, standard Python integer contains multiple info. \n",
    "for it to have a dtype property, the property needs to be clarified like the previous example.\n",
    "'unoptimized'\n",
    "\n",
    "\n",
    "other ex. being )\n",
    "all-string array w. designated dtype\n",
    "=> <class 'numpy.str_'>"
   ]
  },
  {
   "cell_type": "code",
   "execution_count": 90,
   "id": "58933280",
   "metadata": {},
   "outputs": [
    {
     "name": "stdout",
     "output_type": "stream",
     "text": [
      "[[[9 9 9 9]\n",
      "  [9 9 9 9]\n",
      "  [9 9 9 9]]\n",
      "\n",
      " [[9 9 9 9]\n",
      "  [9 9 9 9]\n",
      "  [9 9 9 9]]]\n",
      "[[[0. 0.]\n",
      "  [0. 0.]\n",
      "  [0. 0.]\n",
      "  [0. 0.]\n",
      "  [0. 0.]]\n",
      "\n",
      " [[0. 0.]\n",
      "  [0. 0.]\n",
      "  [0. 0.]\n",
      "  [0. 0.]\n",
      "  [0. 0.]]\n",
      "\n",
      " [[0. 0.]\n",
      "  [0. 0.]\n",
      "  [0. 0.]\n",
      "  [0. 0.]\n",
      "  [0. 0.]]\n",
      "\n",
      " [[0. 0.]\n",
      "  [0. 0.]\n",
      "  [0. 0.]\n",
      "  [0. 0.]\n",
      "  [0. 0.]]\n",
      "\n",
      " [[0. 0.]\n",
      "  [0. 0.]\n",
      "  [0. 0.]\n",
      "  [0. 0.]\n",
      "  [0. 0.]]\n",
      "\n",
      " [[0. 0.]\n",
      "  [0. 0.]\n",
      "  [0. 0.]\n",
      "  [0. 0.]\n",
      "  [0. 0.]]\n",
      "\n",
      " [[0. 0.]\n",
      "  [0. 0.]\n",
      "  [0. 0.]\n",
      "  [0. 0.]\n",
      "  [0. 0.]]\n",
      "\n",
      " [[0. 0.]\n",
      "  [0. 0.]\n",
      "  [0. 0.]\n",
      "  [0. 0.]\n",
      "  [0. 0.]]\n",
      "\n",
      " [[0. 0.]\n",
      "  [0. 0.]\n",
      "  [0. 0.]\n",
      "  [0. 0.]\n",
      "  [0. 0.]]\n",
      "\n",
      " [[0. 0.]\n",
      "  [0. 0.]\n",
      "  [0. 0.]\n",
      "  [0. 0.]\n",
      "  [0. 0.]]]\n",
      "[[[6.23042070e-307 4.67296746e-307 1.69121096e-306]\n",
      "  [1.11260280e-306 1.89146896e-307 7.56571288e-307]\n",
      "  [3.11525958e-307 1.24610723e-306 1.37962320e-306]]\n",
      "\n",
      " [[1.29060871e-306 2.22518251e-306 1.33511969e-306]\n",
      "  [1.78022342e-306 1.05700345e-307 3.11525958e-307]\n",
      "  [1.69118108e-306 8.06632139e-308 1.20160711e-306]]\n",
      "\n",
      " [[1.69119330e-306 1.78021663e-306 8.90067741e-308]\n",
      "  [8.34426464e-308 1.11260483e-306 1.11256749e-306]\n",
      "  [6.23058368e-307 8.91253127e-313 8.91253127e-313]]]\n"
     ]
    }
   ],
   "source": [
    "# arrays with default value\n",
    "\n",
    "import numpy as np\n",
    "a = np.full((2,3,4), 9)\n",
    "# full function - create an array w. (size/shape, content)\n",
    "print(a)\n",
    "\n",
    "b = np.zeros((10,5,2))\n",
    "print(b)\n",
    "\n",
    "c = np.ones((10,5,2))\n",
    "\n",
    "d = np.empty((3,3,3))\n",
    "print(d)\n",
    "# allocates memory w/o value (reserves space for such size)"
   ]
  },
  {
   "cell_type": "markdown",
   "id": "1d1dabe2",
   "metadata": {},
   "source": [
    "Sequence generation"
   ]
  },
  {
   "cell_type": "code",
   "execution_count": 91,
   "id": "5fbb878d",
   "metadata": {},
   "outputs": [
    {
     "name": "stdout",
     "output_type": "stream",
     "text": [
      "[  0   5  10  15  20  25  30  35  40  45  50  55  60  65  70  75  80  85\n",
      "  90  95 100 105 110 115 120 125 130 135 140 145 150 155 160 165 170 175\n",
      " 180 185 190 195 200 205 210 215 220 225 230 235 240 245 250 255 260 265\n",
      " 270 275 280 285 290 295 300 305 310 315 320 325 330 335 340 345 350 355\n",
      " 360 365 370 375 380 385 390 395 400 405 410 415 420 425 430 435 440 445\n",
      " 450 455 460 465 470 475 480 485 490 495 500 505 510 515 520 525 530 535\n",
      " 540 545 550 555 560 565 570 575 580 585 590 595 600 605 610 615 620 625\n",
      " 630 635 640 645 650 655 660 665 670 675 680 685 690 695 700 705 710 715\n",
      " 720 725 730 735 740 745 750 755 760 765 770 775 780 785 790 795 800 805\n",
      " 810 815 820 825 830 835 840 845 850 855 860 865 870 875 880 885 890 895\n",
      " 900 905 910 915 920 925 930 935 940 945 950 955 960 965 970 975 980 985\n",
      " 990 995]\n",
      "[   0.   10.   20.   30.   40.   50.   60.   70.   80.   90.  100.  110.\n",
      "  120.  130.  140.  150.  160.  170.  180.  190.  200.  210.  220.  230.\n",
      "  240.  250.  260.  270.  280.  290.  300.  310.  320.  330.  340.  350.\n",
      "  360.  370.  380.  390.  400.  410.  420.  430.  440.  450.  460.  470.\n",
      "  480.  490.  500.  510.  520.  530.  540.  550.  560.  570.  580.  590.\n",
      "  600.  610.  620.  630.  640.  650.  660.  670.  680.  690.  700.  710.\n",
      "  720.  730.  740.  750.  760.  770.  780.  790.  800.  810.  820.  830.\n",
      "  840.  850.  860.  870.  880.  890.  900.  910.  920.  930.  940.  950.\n",
      "  960.  970.  980.  990. 1000.]\n"
     ]
    }
   ],
   "source": [
    "import numpy as np\n",
    "\n",
    "x_values = np.arange(0, 1000,5) #beginning,end,step size\n",
    "print(x_values)\n",
    "\n",
    "x_values = np.linspace(0,1000, 101) #beginning, end, number of values\n",
    "print(x_values)"
   ]
  },
  {
   "cell_type": "code",
   "execution_count": 92,
   "id": "3c655df5",
   "metadata": {},
   "outputs": [
    {
     "name": "stdout",
     "output_type": "stream",
     "text": [
      "nan\n",
      "inf\n",
      "True\n",
      "True\n",
      "nan\n",
      "[inf]\n"
     ]
    },
    {
     "name": "stderr",
     "output_type": "stream",
     "text": [
      "C:\\Users\\saige\\AppData\\Local\\Temp\\ipykernel_32984\\3519695056.py:13: RuntimeWarning: invalid value encountered in sqrt\n",
      "  print(np.sqrt(-1)) #sqrt : square root\n",
      "C:\\Users\\saige\\AppData\\Local\\Temp\\ipykernel_32984\\3519695056.py:14: RuntimeWarning: divide by zero encountered in divide\n",
      "  print(np.array([10])/0)\n"
     ]
    }
   ],
   "source": [
    "# import numpy as np\n",
    "\n",
    "print(np.nan) #not a number \n",
    "#Use : filling vacant # in huge dataset\n",
    "print(np.inf) #infinity \n",
    "#Use : when needed to return infinity value (ex.division by 0)\n",
    "\n",
    "print(np.isnan(np.nan)) \n",
    "print(np.isinf(np.inf))\n",
    "# checking if not a number/infinity\n",
    "\n",
    "#why does these return the type of np. content?\n",
    "print(np.sqrt(-1)) #sqrt : square root\n",
    "print(np.array([10])/0)"
   ]
  },
  {
   "cell_type": "markdown",
   "id": "e20b1be9",
   "metadata": {},
   "source": [
    "Mathematical Operations with Numpy\n",
    "- enables subtract, multiplication, division, etc. of array not supported in basic python list"
   ]
  },
  {
   "cell_type": "code",
   "execution_count": 93,
   "id": "65d0e84d",
   "metadata": {},
   "outputs": [
    {
     "name": "stdout",
     "output_type": "stream",
     "text": [
      "[1, 2, 3, 4, 5, 1, 2, 3, 4, 5, 1, 2, 3, 4, 5, 1, 2, 3, 4, 5, 1, 2, 3, 4, 5]\n",
      "[ 5 10 15 20 25]\n",
      "[1, 2, 3, 4, 5, 6, 7, 8, 9, 0]\n",
      "[11 12 13 14  5]\n",
      "[ 6 14 24 36  0]\n"
     ]
    }
   ],
   "source": [
    "\n",
    "l1 = [1,2,3,4,5]\n",
    "l2 = [6,7,8,9,0]\n",
    "\n",
    "a1 = np.array(l1)\n",
    "a2 = np.array(l2)\n",
    "\n",
    "print(l1*5) #repeat the element in list 5 times\n",
    "print(a1*5) #multiply each element by 5\n",
    "\n",
    "print(l1 + l2) #combine into a new list\n",
    "# print(l2+5) - TypeError\n",
    "\n",
    "print(a2+5)\n",
    "print(a1*a2) #functions as vector mulplication - like inner product? (when arrays are of same size)\n",
    "\n",
    "##---- \n",
    "\n",
    "a1 = np.array([1,2,3])\n",
    "a2 = np.array([[1],\n",
    "            [2]])\n",
    "            \n",
    "\n",
    "# print(a1+a2) - matrices has to be of same size"
   ]
  },
  {
   "cell_type": "code",
   "execution_count": null,
   "id": "4ee15adc",
   "metadata": {},
   "outputs": [],
   "source": []
  },
  {
   "cell_type": "markdown",
   "id": "ca73a193",
   "metadata": {},
   "source": [
    "other use of numpy in mathematical calculations"
   ]
  },
  {
   "cell_type": "code",
   "execution_count": 94,
   "id": "f603a311",
   "metadata": {},
   "outputs": [
    {
     "name": "stdout",
     "output_type": "stream",
     "text": [
      "[[1.         1.18920712 1.31607401]\n",
      " [1.41421356 1.49534878 1.56508458]]\n",
      "[[0.         0.34657359 0.54930614]\n",
      " [0.69314718 0.80471896 0.89587973]]\n"
     ]
    }
   ],
   "source": [
    "a = np. sqrt([[1,2,3],\n",
    "            [4,5,6]])\n",
    "\n",
    "print(np.sqrt(a))\n",
    "\n",
    "print(np.log(a))"
   ]
  },
  {
   "cell_type": "markdown",
   "id": "b028f79d",
   "metadata": {},
   "source": [
    "[Methods] Adding elements\n",
    "np. (function) (array, index, axis)\n"
   ]
  },
  {
   "cell_type": "code",
   "execution_count": 95,
   "id": "f75b9adb",
   "metadata": {},
   "outputs": [
    {
     "name": "stdout",
     "output_type": "stream",
     "text": [
      "[1 2 3 4 5 6 7 8 9]\n"
     ]
    }
   ],
   "source": [
    "a = np. array([[1,2,3]])\n",
    "\n",
    "a = np.append(a, [7,8,9])\n",
    "\n",
    "a = np. insert(a, 3, [4,5,6])\n",
    "# third position - adding [4,5,6] from index 3 of list a\n",
    "\n",
    "# certain libraries(np, pd, etc.) doesn't change the value - needs manuall change w/ a = ~ \n",
    "\n",
    "print(a)\n"
   ]
  },
  {
   "cell_type": "markdown",
   "id": "c8f18556",
   "metadata": {},
   "source": [
    "[Methods] Deleting\n",
    "np.delete(array, index, axis)\n",
    "\n",
    "if axis # = 0 : (idx + 1)th row / \n",
    "if axis # = 1 : (idx + 1)th column"
   ]
  },
  {
   "cell_type": "code",
   "execution_count": 96,
   "id": "9d5f4fcd",
   "metadata": {},
   "outputs": [
    {
     "name": "stdout",
     "output_type": "stream",
     "text": [
      "[1 2 4 5 6]\n",
      "[[4 5 6]]\n",
      "[[1 2 3]]\n",
      "[[2 3]\n",
      " [5 6]]\n",
      "[[1 3]\n",
      " [4 6]]\n",
      "[[1 2]\n",
      " [4 5]]\n"
     ]
    }
   ],
   "source": [
    "a = np. array([[1,2,3],\n",
    "                [4,5,6]])\n",
    "\n",
    "print(np.delete(a,2)) #no axis provided : delete the element at # index\n",
    "\n",
    "print(np.delete(a,0,0)) # delete 1st row \n",
    "print(np.delete(a,1,0)) #delete 2nd row\n",
    "\n",
    "print(np.delete(a,0,1)) #delete 1st column (idx =  0)\n",
    "print(np. delete(a, 1, 1)) #delete 2nd column (idx =  1)\n",
    "print(np.delete(a,2,1)) # delete 3rd column \n"
   ]
  },
  {
   "cell_type": "markdown",
   "id": "1727e169",
   "metadata": {},
   "source": [
    "[Methods] Structuring Methods\n",
    "* 'view' of an list/array : no other array is being created / modification impacts the original array"
   ]
  },
  {
   "cell_type": "code",
   "execution_count": null,
   "id": "0253f8ea",
   "metadata": {},
   "outputs": [
    {
     "name": "stdout",
     "output_type": "stream",
     "text": [
      "[[ 1  2  3  4]\n",
      " [ 5  6  7  8]\n",
      " [ 9 10 11 12]\n",
      " [13 14 15 16]\n",
      " [17 18 19 20]]\n",
      "[[ 1  2]\n",
      " [ 3  4]\n",
      " [ 5  6]\n",
      " [ 7  8]\n",
      " [ 9 10]\n",
      " [11 12]\n",
      " [13 14]\n",
      " [15 16]\n",
      " [17 18]\n",
      " [19 20]]\n",
      "[[[ 1  2]\n",
      "  [ 3  4]\n",
      "  [ 5  6]\n",
      "  [ 7  8]\n",
      "  [ 9 10]]\n",
      "\n",
      " [[11 12]\n",
      "  [13 14]\n",
      "  [15 16]\n",
      "  [17 18]\n",
      "  [19 20]]]\n",
      "[[ 1  2  3  4  5]\n",
      " [ 6  7  8  9 10]\n",
      " [11 12 13 14 15]\n",
      " [16 17 18 19 20]]\n",
      "[[ 1  2  3  4]\n",
      " [ 5  6  7  8]\n",
      " [ 9 10 11 12]\n",
      " [13 14 15 16]\n",
      " [17 18 19 20]]\n",
      "[ 1  2  3  4  5  6  7  8  9 10 11 12 13 14 15 16 17 18 19 20]\n",
      "[ 1  2  3  4  5  6  7  8  9 10 11 12 13 14 15 16 17 18 19 20]\n",
      "[  1   2 100   4   5   6   7   8   9  10  11  12  13  14  15  16  17  18\n",
      "  19  20]\n",
      "[[ 1  2  3  4]\n",
      " [ 5  6  7  8]\n",
      " [ 9 10 11 12]\n",
      " [13 14 15 16]\n",
      " [17 18 19 20]]\n",
      "[  1   2 100   4   5   6   7   8   9  10  11  12  13  14  15  16  17  18\n",
      "  19  20]\n",
      "[[  1   2 100   4]\n",
      " [  5   6   7   8]\n",
      " [  9  10  11  12]\n",
      " [ 13  14  15  16]\n",
      " [ 17  18  19  20]]\n"
     ]
    }
   ],
   "source": [
    "a = np.array([[1,2,3,4,5],[6,7,8,9,10],[11,12,13,14,15],[16,17,18,19,20]])\n",
    "\n",
    "# print(a.shape)\n",
    "print(a.reshape(5,4)) #possible only if  compatible w. no blank idx\n",
    "print(a.reshape(10,2))\n",
    "print(a.reshape(2,5,2))\n",
    "\n",
    "a.reshape(1,20)\n",
    "print(a)\n",
    "\n",
    "a.resize((5,4)) #requires tuple\n",
    "print(a)\n",
    "\n",
    "print(a.flatten()) # flattened copy of an array\n",
    "print(a.ravel()) # returns flat view\n"
   ]
  },
  {
   "cell_type": "code",
   "execution_count": null,
   "id": "84d23271",
   "metadata": {},
   "outputs": [
    {
     "name": "stdout",
     "output_type": "stream",
     "text": [
      "[np.int64(1), np.int64(2), np.int64(3), np.int64(4), np.int64(5), np.int64(6), np.int64(7), np.int64(8), np.int64(9), np.int64(10), np.int64(11), np.int64(12), np.int64(13), np.int64(14), np.int64(15), np.int64(16), np.int64(17), np.int64(18), np.int64(19), np.int64(20)]\n"
     ]
    }
   ],
   "source": []
  },
  {
   "cell_type": "code",
   "execution_count": null,
   "id": "ff56fc42",
   "metadata": {},
   "outputs": [
    {
     "name": "stdout",
     "output_type": "stream",
     "text": [
      "[  1   2 100   4   5   6   7   8   9  10  11  12  13  14  15  16  17  18\n",
      "  19  20]\n",
      "[[  1   2 100   4]\n",
      " [  5   6   7   8]\n",
      " [  9  10  11  12]\n",
      " [ 13  14  15  16]\n",
      " [ 17  18  19  20]]\n",
      "[  1   2 100   4   5   6   7   8   9  10  11  12  13  14  15  16  17  18\n",
      "  19  20]\n",
      "[[  1   2 100   4]\n",
      " [  5   6   7   8]\n",
      " [  9  10  11  12]\n",
      " [ 13  14  15  16]\n",
      " [ 17  18  19  20]]\n",
      "[np.int64(1), np.int64(2), np.int64(100), np.int64(4), np.int64(5), np.int64(6), np.int64(7), np.int64(8), np.int64(9), np.int64(10), np.int64(11), np.int64(12), np.int64(13), np.int64(14), np.int64(15), np.int64(16), np.int64(17), np.int64(18), np.int64(19), np.int64(20)]\n"
     ]
    }
   ],
   "source": [
    "var1 = a.flatten()\n",
    "var1[2] = 100\n",
    "print(var1) #original array is not modified - flattened 'view'\n",
    "print(a)\n",
    "\n",
    "var2 = a.ravel()\n",
    "var2[2] = 100\n",
    "print(var2) #original array is modified\n",
    "print(a)\n",
    "\n",
    "### from the video this code returns a list w. standard python integer unlike mine. WHY?\n",
    "var = [ v for v in a.flat ] #similar to flatten Method, creates new list w. elements of the array\n",
    "print(var)\n"
   ]
  },
  {
   "cell_type": "code",
   "execution_count": null,
   "id": "a2581502",
   "metadata": {},
   "outputs": [
    {
     "name": "stdout",
     "output_type": "stream",
     "text": [
      "[[ 1  6 11 16]\n",
      " [ 2  7 12 17]\n",
      " [ 3  8 13 18]\n",
      " [ 4  9 14 19]\n",
      " [ 5 10 15 20]]\n",
      "[[ 1  6 11 16]\n",
      " [ 2  7 12 17]\n",
      " [ 3  8 13 18]\n",
      " [ 4  9 14 19]\n",
      " [ 5 10 15 20]]\n",
      "[[ 1  6 11 16]\n",
      " [ 2  7 12 17]\n",
      " [ 3  8 13 18]\n",
      " [ 4  9 14 19]\n",
      " [ 5 10 15 20]]\n"
     ]
    }
   ],
   "source": [
    "#Transposing\n",
    "\n",
    "a = np.array([[1,2,3,4,5],[6,7,8,9,10],[11,12,13,14,15],[16,17,18,19,20]])\n",
    "\n",
    "print(a.transpose())\n",
    "print(a.T) #Both possible\n",
    "print(a.swapaxes(0,1)) # can choose the axes you want to swap - works when w. multiple dimensions\n",
    "\n"
   ]
  },
  {
   "cell_type": "markdown",
   "id": "e637a1e2",
   "metadata": {},
   "source": [
    "Joining/Spliting arrays"
   ]
  },
  {
   "cell_type": "code",
   "execution_count": null,
   "id": "361401af",
   "metadata": {},
   "outputs": [
    {
     "name": "stdout",
     "output_type": "stream",
     "text": [
      "[[ 1  2  3  4  5]\n",
      " [ 6  7  8  9 10]\n",
      " [11 12 13 14 15]\n",
      " [16 17 18 19 20]]\n",
      "[[ 1  2  3  4  5 11 12 13 14 15]\n",
      " [ 6  7  8  9 10 16 17 18 19 20]]\n",
      "[[[ 1  2  3  4  5]\n",
      "  [ 6  7  8  9 10]]\n",
      "\n",
      " [[11 12 13 14 15]\n",
      "  [16 17 18 19 20]]]\n"
     ]
    }
   ],
   "source": [
    "#Joining arrays - np.concatenate, np.stack\n",
    "a1 = np.array([[1,2,3,4,5],\n",
    "                [6,7,8,9,10]])\n",
    "a2 = np.array([[11,12,13,14,15], \n",
    "                [16,17,18,19,20]])\n",
    "\n",
    "#concatenate - works on pre-existing dimensions\n",
    "#different results by axis\n",
    "a = np.concatenate((a1,a2), axis =0) #row-wise\n",
    "print(a)\n",
    "\n",
    "a = np.concatenate((a1,a2), axis =1) #column-wise\n",
    "print(a)\n",
    "\n",
    "#stack - works on new dimensions - 2 additional list \n",
    "a = np.stack((a1,a2))\n",
    "print(a)\n",
    "# tuple input required\n",
    "\n",
    "print(a = np.vstack((a1,a2)))\n",
    "\n",
    "print(a = np.hstack((a1,a2)))"
   ]
  },
  {
   "cell_type": "code",
   "execution_count": null,
   "id": "3c81f707",
   "metadata": {},
   "outputs": [
    {
     "name": "stdout",
     "output_type": "stream",
     "text": [
      "[array([[ 1,  2,  3,  4,  5],\n",
      "       [ 6,  7,  8,  9, 10]]), array([[11, 12, 13, 14, 15],\n",
      "       [16, 17, 18, 19, 20]])]\n",
      "[array([[ 1],\n",
      "       [ 6],\n",
      "       [11],\n",
      "       [16]]), array([[ 2],\n",
      "       [ 7],\n",
      "       [12],\n",
      "       [17]]), array([[ 3],\n",
      "       [ 8],\n",
      "       [13],\n",
      "       [18]]), array([[ 4],\n",
      "       [ 9],\n",
      "       [14],\n",
      "       [19]]), array([[ 5],\n",
      "       [10],\n",
      "       [15],\n",
      "       [20]])]\n"
     ]
    }
   ],
   "source": [
    "#splitting arrays\n",
    "a = np.array([[1,2,3,4,5],\n",
    "                [6,7,8,9,10],\n",
    "                [11,12,13,14,15], \n",
    "                [16,17,18,19,20]])\n",
    "\n",
    "# np.split (array, # of resulting array, axis)\n",
    "print(np.split(a, 2, axis = 0))\n",
    "print(np.split(a, 5, axis = 1))"
   ]
  },
  {
   "cell_type": "markdown",
   "id": "3584ca4c",
   "metadata": {},
   "source": [
    "[Aggregate Functions]"
   ]
  },
  {
   "cell_type": "code",
   "execution_count": null,
   "id": "af193e23",
   "metadata": {},
   "outputs": [
    {
     "name": "stdout",
     "output_type": "stream",
     "text": [
      "1\n",
      "20\n",
      "10.5\n",
      "5.766281297335398\n",
      "210\n",
      "10.5\n"
     ]
    }
   ],
   "source": [
    "print(a.min())\n",
    "print(a.max())\n",
    "print(a.mean())\n",
    "print(a.std()) # standard deviation\n",
    "print(a.sum())\n",
    "print(np.median(a))"
   ]
  },
  {
   "cell_type": "markdown",
   "id": "8d519941",
   "metadata": {},
   "source": [
    "[Numpy Random]"
   ]
  },
  {
   "cell_type": "code",
   "execution_count": 150,
   "id": "b8c947ab",
   "metadata": {},
   "outputs": [
    {
     "name": "stdout",
     "output_type": "stream",
     "text": [
      "19\n",
      "[[[97 90 95 96]\n",
      "  [94 92 92 92]\n",
      "  [92 92 90 96]]\n",
      "\n",
      " [[99 98 90 91]\n",
      "  [91 98 94 94]\n",
      "  [96 96 93 92]]]\n",
      "[[4 5 4 5 5 3 6 6 3 5]\n",
      " [5 6 5 2 5 4 6 2 5 5]\n",
      " [4 6 5 6 5 6 7 7 5 7]\n",
      " [6 4 7 4 6 4 6 7 6 4]\n",
      " [6 9 4 4 4 7 4 2 4 6]]\n",
      "[[162.95043021 177.31390106 150.23577878 166.17889521 148.94321582\n",
      "  155.56827214 178.81206616 155.63938886 169.37419109 156.20826926]\n",
      " [152.28302121 157.71556441 147.25509753 184.23697607 195.10028743\n",
      "  186.16579405 195.11150968 177.40150234 157.26630372 173.55098394]\n",
      " [164.2077177  181.912088   158.63128441 179.43276601 159.08267963\n",
      "  161.94021865 194.41960985 179.10960403 151.30013047 156.49185374]\n",
      " [162.89922598 157.32585579 155.37538748 193.33820251 166.72982091\n",
      "  170.58801391 192.20446616 165.86739266 126.0175755  176.21595198]\n",
      " [138.41637757 159.33530176 182.26159025 171.91859535 191.36167551\n",
      "  198.97544843 166.90062112 143.47407664 166.51862516 141.2748279 ]]\n",
      "[[50 20 20 20 50 50 10 50 40 20]\n",
      " [40 20 30 20 20 30 10 20 10 30]\n",
      " [50 20 20 40 50 10 40 10 40 10]\n",
      " [10 30 20 20 20 30 50 40 50 10]\n",
      " [30 20 20 30 40 40 30 20 20 20]]\n"
     ]
    }
   ],
   "source": [
    "number = np.random.randint(100)\n",
    "print(number)\n",
    "\n",
    "numbers = np.random.randint(90, 100, size = (2,3,4)) #min/max\n",
    "print(numbers)\n",
    "\n",
    "numbers = np.random.binomial(10, p = 0.5, size = (5,10))\n",
    "print(numbers)\n",
    "\n",
    "numbers = np.random.normal(loc = 170, scale = 15, size = (5,10))\n",
    "print(numbers)\n",
    "\n",
    "numbers = np.random.choice([10, 20, 30,40,50], size = (5,10))\n",
    "print(numbers)"
   ]
  },
  {
   "cell_type": "markdown",
   "id": "786db24d",
   "metadata": {},
   "source": [
    "[ Save / Import ]"
   ]
  },
  {
   "cell_type": "code",
   "execution_count": null,
   "id": "101c4eef",
   "metadata": {},
   "outputs": [
    {
     "name": "stdout",
     "output_type": "stream",
     "text": [
      "[[ 1  2  3  4  5]\n",
      " [ 6  7  8  9 10]\n",
      " [11 12 13 14 15]\n",
      " [16 17 18 19 20]]\n"
     ]
    }
   ],
   "source": [
    "np.save(\"myarray.npy\",a)\n",
    "a = np.load(\"myarray.npy\")\n",
    "print(a)\n",
    "\n",
    "#other saving format\n",
    "np.savetxt(\"myarray.csv\", a, delimiter = \",\")\n",
    "np.save"
   ]
  }
 ],
 "metadata": {
  "kernelspec": {
   "display_name": "Python 3",
   "language": "python",
   "name": "python3"
  },
  "language_info": {
   "codemirror_mode": {
    "name": "ipython",
    "version": 3
   },
   "file_extension": ".py",
   "mimetype": "text/x-python",
   "name": "python",
   "nbconvert_exporter": "python",
   "pygments_lexer": "ipython3",
   "version": "3.13.1"
  }
 },
 "nbformat": 4,
 "nbformat_minor": 5
}
