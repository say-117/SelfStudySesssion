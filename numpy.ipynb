{
 "cells": [
  {
   "cell_type": "markdown",
   "id": "1422917b",
   "metadata": {},
   "source": [
    "Introduction"
   ]
  },
  {
   "cell_type": "code",
   "execution_count": 1,
   "id": "41dc1122",
   "metadata": {},
   "outputs": [
    {
     "name": "stdout",
     "output_type": "stream",
     "text": [
      "4\n",
      "[1, 2, 3, 4, 5]\n"
     ]
    }
   ],
   "source": [
    "import numpy as np\n",
    "#numpy <- writen in c, optimized for linear Algebra\n",
    "a = [1,2,3,4,5]\n",
    "\n",
    "print(a[3])\n",
    "print(a)"
   ]
  },
  {
   "cell_type": "code",
   "execution_count": null,
   "id": "3a7bb832",
   "metadata": {},
   "outputs": [
    {
     "name": "stdout",
     "output_type": "stream",
     "text": [
      "[1 2 3 4 5]\n",
      "<class 'numpy.ndarray'>\n",
      "[3 4 5]\n"
     ]
    }
   ],
   "source": [
    "a = np.array([1,2,3,4,5])\n",
    "print(a)\n",
    "print(type(a))\n",
    "print(a[2:])\n",
    "\n",
    "#numpy array separated by spacing"
   ]
  },
  {
   "cell_type": "code",
   "execution_count": null,
   "id": "7f5e0b96",
   "metadata": {},
   "outputs": [
    {
     "name": "stdout",
     "output_type": "stream",
     "text": [
      "(2, 3, 4)\n",
      "3\n"
     ]
    }
   ],
   "source": [
    "# multilayer\n",
    "a_mul = np.array([[[1,2,3, 0],\n",
    "                [4,5,6, 0],\n",
    "                [7,8,9, 0]],\n",
    "                [[4,5,6, 0],\n",
    "                [7,6,0, 0],\n",
    "                [1,2,3, 0]]])\n",
    "\n",
    "print (a_mul.shape) #size - as matrix\n",
    "\n",
    "# (# of matrices, row, column )\n",
    "# **only if matrices are of same size (homogeneous)\n",
    "# all element should be included in a single list form as a whole [ ]\n",
    "\n",
    "print(a_mul.ndim) #dimension - depth\n",
    "\n",
    "# Q - f vector(x,y,z) perspective?\n",
    "\n",
    "print(a_mul.size) #amount of element\n",
    "print(a_mul.dtype) #\n"
   ]
  },
  {
   "cell_type": "markdown",
   "id": "be1ec1c7",
   "metadata": {},
   "source": [
    "Datatype"
   ]
  },
  {
   "cell_type": "code",
   "execution_count": null,
   "id": "3dd46fd0",
   "metadata": {},
   "outputs": [
    {
     "name": "stdout",
     "output_type": "stream",
     "text": [
      "<U21\n",
      "84\n"
     ]
    }
   ],
   "source": [
    "#import numpy as np\n",
    "\n",
    "a = np.array([[1,2,3],\n",
    "             [4, \"Hello\",5],\n",
    "             [7,8,9]])\n",
    "\n",
    "print(a.dtype)\n",
    "# < U# - Unicode string with less than # Characters\n",
    "print(a.itemsize)\n",
    "# memory that a single item in array uses\n",
    "# in this case, 21*4(bytes for unicode)"
   ]
  },
  {
   "cell_type": "markdown",
   "id": "a4c8be12",
   "metadata": {},
   "source": [
    "# unicode : universial standard/code for each text in computer. \n",
    "assigned to each character/number/symbols, etc. Usually takes up 4 bytes of memory (integer takes 28)\n",
    "    + ) practically the same as string, except for encoding systems created before unicode\n",
    "\n",
    "# How numpy allocates memory\n",
    "The number as in U21 <- fit for the longest (unicord) title for convinience, as a fixed-sized lot ; can only tell the size of a single element\n",
    "\n",
    "# Numpy's Upcasting Process\n",
    "converts other data types into the most general one(string in this case)"
   ]
  },
  {
   "cell_type": "code",
   "execution_count": null,
   "id": "672d9b64",
   "metadata": {},
   "outputs": [],
   "source": []
  }
 ],
 "metadata": {
  "kernelspec": {
   "display_name": "Python 3",
   "language": "python",
   "name": "python3"
  },
  "language_info": {
   "codemirror_mode": {
    "name": "ipython",
    "version": 3
   },
   "file_extension": ".py",
   "mimetype": "text/x-python",
   "name": "python",
   "nbconvert_exporter": "python",
   "pygments_lexer": "ipython3",
   "version": "3.13.1"
  }
 },
 "nbformat": 4,
 "nbformat_minor": 5
}
